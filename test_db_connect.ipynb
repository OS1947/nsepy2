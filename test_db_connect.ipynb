{
 "cells": [
  {
   "cell_type": "code",
   "execution_count": 4,
   "metadata": {},
   "outputs": [],
   "source": [
    "import psycopg2\n",
    "from sshtunnel import SSHTunnelForwarder"
   ]
  },
  {
   "cell_type": "code",
   "execution_count": 5,
   "metadata": {},
   "outputs": [],
   "source": [
    "REMOTE_HOST = '152.67.7.9'\n",
    "REMOTE_SSH_PORT = 22\n",
    "REMOTE_USERNAME = 'ubuntu'\n",
    "KEY_FILE = \"/home/praty/Documents/Project/Demand-Plan/openssh_format\"\n",
    "server = SSHTunnelForwarder((REMOTE_HOST, REMOTE_SSH_PORT),\n",
    "         ssh_username=REMOTE_USERNAME,\n",
    "         ssh_pkey=KEY_FILE,\n",
    "         remote_bind_address=('localhost', 5432),\n",
    "         local_bind_address=('localhost', 5432))\n",
    "server.start()\n"
   ]
  },
  {
   "cell_type": "code",
   "execution_count": 6,
   "metadata": {},
   "outputs": [],
   "source": [
    "conn = psycopg2.connect(dbname='nse', user='pkpgsql', password='pk@pgsql2018', host='localhost', port='5432')"
   ]
  },
  {
   "cell_type": "code",
   "execution_count": 7,
   "metadata": {},
   "outputs": [
    {
     "data": {
      "text/plain": [
       "[(datetime.date(2016, 1, 22), 'AADYA', 'GE')]"
      ]
     },
     "execution_count": 7,
     "metadata": {},
     "output_type": "execute_result"
    }
   ],
   "source": [
    "cur = conn.cursor()\n",
    "query = \"select * from test;\"\n",
    "cur.execute(query)\n",
    "records = cur.fetchall()\n",
    "records"
   ]
  },
  {
   "cell_type": "code",
   "execution_count": 8,
   "metadata": {},
   "outputs": [
    {
     "name": "stdout",
     "output_type": "stream",
     "text": [
      "Secret function is called successfully\n"
     ]
    }
   ],
   "source": []
  }
 ],
 "metadata": {
  "kernelspec": {
   "display_name": "Python 3.8.10 ('test': venv)",
   "language": "python",
   "name": "python3"
  },
  "language_info": {
   "codemirror_mode": {
    "name": "ipython",
    "version": 3
   },
   "file_extension": ".py",
   "mimetype": "text/x-python",
   "name": "python",
   "nbconvert_exporter": "python",
   "pygments_lexer": "ipython3",
   "version": "3.8.10"
  },
  "orig_nbformat": 4,
  "vscode": {
   "interpreter": {
    "hash": "c5895ec0f36aef2f6b813c7c0766854fa714ec997922f7655dc7b251753a35d5"
   }
  }
 },
 "nbformat": 4,
 "nbformat_minor": 2
}
